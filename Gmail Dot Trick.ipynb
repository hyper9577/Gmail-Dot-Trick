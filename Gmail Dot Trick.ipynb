{
  "nbformat": 4,
  "nbformat_minor": 0,
  "metadata": {
    "colab": {
      "name": "Gmail Dot Trick.ipynb",
      "provenance": [],
      "authorship_tag": "ABX9TyP2VTP5kBmKCn25I8RV+kf2",
      "include_colab_link": true
    },
    "kernelspec": {
      "name": "python3",
      "display_name": "Python 3"
    },
    "accelerator": "TPU"
  },
  "cells": [
    {
      "cell_type": "markdown",
      "metadata": {
        "id": "view-in-github",
        "colab_type": "text"
      },
      "source": [
        "<a href=\"https://colab.research.google.com/github/hyper9577/Gmail-Dot-Trick/blob/master/Gmail%20Dot%20Trick.ipynb\" target=\"_parent\"><img src=\"https://colab.research.google.com/assets/colab-badge.svg\" alt=\"Open In Colab\"/></a>"
      ]
    },
    {
      "cell_type": "code",
      "metadata": {
        "id": "TfWtGXmqbggL",
        "colab_type": "code",
        "colab": {}
      },
      "source": [
        "from google.colab import drive\n",
        "drive.mount('/content/drive')"
      ],
      "execution_count": null,
      "outputs": []
    },
    {
      "cell_type": "code",
      "metadata": {
        "id": "cM8PKWb81ypg",
        "colab_type": "code",
        "colab": {}
      },
      "source": [
        "! git clone https://github.com/bpnrockstar/gmail/"
      ],
      "execution_count": null,
      "outputs": []
    },
    {
      "cell_type": "code",
      "metadata": {
        "id": "FcGSNUxq2cqQ",
        "colab_type": "code",
        "colab": {}
      },
      "source": [
        "cd gmail"
      ],
      "execution_count": null,
      "outputs": []
    },
    {
      "cell_type": "code",
      "metadata": {
        "id": "HSqssbUl2qbA",
        "colab_type": "code",
        "colab": {}
      },
      "source": [
        "! ls"
      ],
      "execution_count": null,
      "outputs": []
    },
    {
      "cell_type": "code",
      "metadata": {
        "id": "XPe6jhcH2tqX",
        "colab_type": "code",
        "colab": {}
      },
      "source": [
        "! python trick.py"
      ],
      "execution_count": null,
      "outputs": []
    }
  ]
}